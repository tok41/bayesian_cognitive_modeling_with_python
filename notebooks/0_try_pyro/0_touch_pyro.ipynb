{
 "cells": [
  {
   "cell_type": "markdown",
   "metadata": {},
   "source": [
    "# 概要\n",
    "- pyroを触ってみる\n",
    "  - 動作確認\n",
    "- 参考\n",
    "  - [Pyro document](http://pyro.ai/examples/intro_part_ii.html)\n",
    "  - [Hello cybernetics](https://www.hellocybernetics.tech/entry/2020/02/17/194218)さん\n",
    "  - [まるまるにっき](https://blog.snowhork.com/2018/12/introducde-pyro)さん"
   ]
  },
  {
   "cell_type": "code",
   "execution_count": 1,
   "metadata": {},
   "outputs": [],
   "source": [
    "import numpy as np\n",
    "from scipy import stats\n",
    "\n",
    "%matplotlib inline\n",
    "import matplotlib.pyplot as plt\n",
    "import seaborn as sns\n",
    "\n",
    "sns.set()"
   ]
  },
  {
   "cell_type": "code",
   "execution_count": 2,
   "metadata": {},
   "outputs": [],
   "source": [
    "import torch\n",
    "import pyro\n",
    "import pyro.infer as infer\n",
    "import pyro.distributions as dist\n",
    "from torch.distributions import constraints"
   ]
  },
  {
   "cell_type": "code",
   "execution_count": 3,
   "metadata": {},
   "outputs": [],
   "source": [
    "seed = 100\n",
    "np.random.seed(seed)\n",
    "pyro.set_rng_seed(seed)"
   ]
  },
  {
   "cell_type": "markdown",
   "metadata": {},
   "source": [
    "# コイントス問題（ベルヌーイ分布のパラメータ推論）\n",
    "- Pyroチュートリアルにある例\n",
    "- Pyroチュートリアル関係なく、確率モデルの推論における最もシンプルな例"
   ]
  },
  {
   "cell_type": "markdown",
   "metadata": {},
   "source": [
    "モデル\n",
    "\n",
    "$$\n",
    "p(x, \\theta) = p(x | \\theta) p(\\theta)\n",
    "$$\n",
    "\n",
    "ここで\n",
    "\n",
    "$$\n",
    "\\begin{eqnarray}\n",
    "  p(\\theta) &=& \\mathrm{Beta}(\\theta | \\alpha, \\beta) \\\\\n",
    "  p(x|\\theta) &=& \\mathrm{Bern}(x_n | \\theta)\n",
    "\\end{eqnarray}\n",
    "$$"
   ]
  },
  {
   "cell_type": "markdown",
   "metadata": {},
   "source": [
    "## トイデータ"
   ]
  },
  {
   "cell_type": "code",
   "execution_count": 4,
   "metadata": {},
   "outputs": [
    {
     "name": "stdout",
     "output_type": "stream",
     "text": [
      "tensor([1., 1., 1., 0., 1., 1., 0., 0., 1., 1., 0., 1., 1., 1., 1., 0., 0., 1.,\n",
      "        0., 1., 1., 0., 0., 1., 1., 1., 1., 1., 0., 1., 1., 0., 1., 1., 1., 0.,\n",
      "        0., 1., 0., 1., 0., 0., 1., 1., 1., 1., 0., 1., 1., 0.])\n"
     ]
    }
   ],
   "source": [
    "p_true = 0.6\n",
    "x_sample = stats.bernoulli(p_true).rvs(50)\n",
    "data = torch.tensor([float(d) for d in x_sample])\n",
    "print(data)"
   ]
  },
  {
   "cell_type": "code",
   "execution_count": 5,
   "metadata": {},
   "outputs": [
    {
     "name": "stdout",
     "output_type": "stream",
     "text": [
      "positive/total = 32:50 = 0.64\n"
     ]
    }
   ],
   "source": [
    "print(f'positive/total = {sum(x_sample)}:{len(x_sample)} = {sum(x_sample)/len(x_sample)}')"
   ]
  },
  {
   "cell_type": "markdown",
   "metadata": {},
   "source": [
    "## モデルの構築"
   ]
  },
  {
   "cell_type": "code",
   "execution_count": 6,
   "metadata": {},
   "outputs": [],
   "source": [
    "def model_coin(param=None):\n",
    "    alpha0 = torch.tensor(1.0)\n",
    "    beta0 = torch.tensor(1.0)\n",
    "    theta = pyro.sample('theta', dist.Beta(alpha0, beta0))\n",
    "    x_smp = pyro.sample('x', dist.Bernoulli(theta))\n",
    "    return x_smp\n",
    "\n",
    "cond_model = pyro.condition(\n",
    "    model_coin, \n",
    "    data={'x':data})"
   ]
  },
  {
   "cell_type": "markdown",
   "metadata": {},
   "source": [
    "### 構築したモデルを使ってシミュレーションができる\n",
    "- 仮のパラメータを`pyro.condition`指定して、サンプルを取得\n",
    "\n",
    "確率的にパラメータ$\\theta$を決定したうえでサンプルを取得するには、HelloCyberneticsさんの[こちらの記事](https://www.hellocybernetics.tech/entry/2020/02/17/194218)にあるようにモデルの中でサンプルするパラメータを決めれば良いのかな？"
   ]
  },
  {
   "cell_type": "code",
   "execution_count": 7,
   "metadata": {},
   "outputs": [
    {
     "name": "stdout",
     "output_type": "stream",
     "text": [
      "positive/total = 12.0:20 = 0.6\n",
      "[1.0, 0.0, 1.0, 1.0, 1.0, 0.0, 1.0, 1.0, 1.0, 1.0, 1.0, 0.0, 0.0, 0.0, 1.0, 0.0, 0.0, 0.0, 1.0, 1.0]\n"
     ]
    }
   ],
   "source": [
    "y_sim = [pyro.sample('y', \n",
    "                     pyro.condition(model_coin, data={'theta':0.7})).item() \n",
    "         for _ in range(20)]\n",
    "print(f'positive/total = {sum(y_sim)}:{len(y_sim)} = {sum(y_sim)/len(y_sim)}')\n",
    "print(y_sim)"
   ]
  },
  {
   "cell_type": "markdown",
   "metadata": {},
   "source": [
    "## 変分推論"
   ]
  },
  {
   "cell_type": "markdown",
   "metadata": {},
   "source": [
    "### 近似事後分布の形を決める"
   ]
  },
  {
   "cell_type": "code",
   "execution_count": 8,
   "metadata": {},
   "outputs": [],
   "source": [
    "def posterior():\n",
    "    alpha_q = pyro.param(\"alpha_q\", torch.tensor(1.0),\n",
    "                         constraint=constraints.positive)\n",
    "    beta_q = pyro.param(\"beta_q\", torch.tensor(1.0),\n",
    "                        constraint=constraints.positive)\n",
    "    return dist.Beta(alpha_q, beta_q)\n",
    "\n",
    "def guide(data):\n",
    "    pyro.sample('theta', posterior())"
   ]
  },
  {
   "cell_type": "markdown",
   "metadata": {},
   "source": [
    "### 推論"
   ]
  },
  {
   "cell_type": "code",
   "execution_count": 9,
   "metadata": {},
   "outputs": [],
   "source": [
    "optimizer = pyro.optim.SGD({\"lr\": 0.001, \"momentum\":0.1})\n",
    "\n",
    "svi = pyro.infer.SVI(model=cond_model, \n",
    "                     guide=guide, \n",
    "                     optim=optimizer, \n",
    "                     loss=pyro.infer.Trace_ELBO())\n",
    "\n",
    "# do gradient steps\n",
    "n_steps = 10000\n",
    "for step in range(n_steps):\n",
    "    svi.step(data)\n"
   ]
  },
  {
   "cell_type": "markdown",
   "metadata": {},
   "source": [
    "### 推論結果の確認"
   ]
  },
  {
   "cell_type": "code",
   "execution_count": 10,
   "metadata": {},
   "outputs": [
    {
     "name": "stdout",
     "output_type": "stream",
     "text": [
      "alpha_q: 30.555179595947266\n",
      "beta_q: 18.06821060180664\n"
     ]
    }
   ],
   "source": [
    "for name in pyro.get_param_store():\n",
    "    print(\"{}: {}\".format(name, pyro.param(name)))"
   ]
  },
  {
   "cell_type": "code",
   "execution_count": 11,
   "metadata": {},
   "outputs": [
    {
     "data": {
      "text/plain": [
       "<matplotlib.legend.Legend at 0x7f9211ee4ac0>"
      ]
     },
     "execution_count": 11,
     "metadata": {},
     "output_type": "execute_result"
    },
    {
     "data": {
      "image/png": "[encoded data removed]",
      "text/plain": [
       "<Figure size 576x216 with 1 Axes>"
      ]
     },
     "metadata": {},
     "output_type": "display_data"
    }
   ],
   "source": [
    "theta_sample_posterior = [posterior().sample() for _ in range(5000)]\n",
    "\n",
    "fig = plt.figure(figsize=(8, 3))\n",
    "ax = fig.subplots(1,1)\n",
    "sns.distplot(theta_sample_posterior, ax=ax, label='posterior(histgram)')\n",
    "\n",
    "xmin, xmax, ymin, ymax = ax.axis()\n",
    "ax.vlines(p_true, ymin, ymax, linestyles='dashed', lw=3, label='setting value')\n",
    "\n",
    "ax.set_xlim(0, 1)\n",
    "ax.legend()"
   ]
  },
  {
   "cell_type": "markdown",
   "metadata": {},
   "source": [
    "## MCMC"
   ]
  },
  {
   "cell_type": "markdown",
   "metadata": {},
   "source": [
    "### 推論"
   ]
  },
  {
   "cell_type": "code",
   "execution_count": 12,
   "metadata": {},
   "outputs": [],
   "source": [
    "nuts_kernel = infer.NUTS(cond_model, \n",
    "                         adapt_step_size=True, \n",
    "                         jit_compile=True, \n",
    "                         ignore_jit_warnings=True)\n",
    "mcmc = infer.MCMC(nuts_kernel, \n",
    "                  num_samples=1500,\n",
    "                  warmup_steps=500,\n",
    "                  num_chains=1)"
   ]
  },
  {
   "cell_type": "code",
   "execution_count": 13,
   "metadata": {},
   "outputs": [
    {
     "name": "stderr",
     "output_type": "stream",
     "text": [
      "Sample: 100%|██████████| 2000/2000 [00:07, 263.19it/s, step size=1.27e+00, acc. prob=0.901]\n"
     ]
    }
   ],
   "source": [
    "mcmc.run()"
   ]
  },
  {
   "cell_type": "markdown",
   "metadata": {},
   "source": [
    "### 推論結果の確認"
   ]
  },
  {
   "cell_type": "code",
   "execution_count": 14,
   "metadata": {},
   "outputs": [
    {
     "name": "stdout",
     "output_type": "stream",
     "text": [
      "\n",
      "                mean       std    median      5.0%     95.0%     n_eff     r_hat\n",
      "     theta      0.63      0.07      0.63      0.52      0.73    574.78      1.00\n",
      "\n",
      "Number of divergences: 0\n"
     ]
    }
   ],
   "source": [
    "mcmc.summary()"
   ]
  },
  {
   "cell_type": "code",
   "execution_count": 15,
   "metadata": {},
   "outputs": [
    {
     "data": {
      "text/plain": [
       "<matplotlib.legend.Legend at 0x7f921156b640>"
      ]
     },
     "execution_count": 15,
     "metadata": {},
     "output_type": "execute_result"
    },
    {
     "data": {
      "image/png": "[encoded data removed]",
      "text/plain": [
       "<Figure size 576x216 with 1 Axes>"
      ]
     },
     "metadata": {},
     "output_type": "display_data"
    }
   ],
   "source": [
    "theta_sample_mcmc = mcmc.get_samples()['theta']\n",
    "\n",
    "fig = plt.figure(figsize=(8, 3))\n",
    "ax = fig.subplots(1,1)\n",
    "sns.distplot(theta_sample_mcmc, ax=ax, label='theta(MCMC sample)')\n",
    "\n",
    "xmin, xmax, ymin, ymax = ax.axis()\n",
    "ax.vlines(p_true, ymin, ymax, linestyles='dashed', lw=3, label='setting value')\n",
    "\n",
    "ax.set_xlim(0, 1)\n",
    "ax.legend()"
   ]
  },
  {
   "cell_type": "markdown",
   "metadata": {},
   "source": [
    "# ガウス分布のパラメータ推論"
   ]
  },
  {
   "cell_type": "markdown",
   "metadata": {},
   "source": [
    "ガウス分布（正規分布）のパラメータを推論する\n",
    "\n",
    "モデル\n",
    "\n",
    "$$\n",
    "p(x, \\mu, \\sigma) = p(x|\\mu, \\sigma) p(\\mu) p(\\sigma)\n",
    "$$\n",
    "\n",
    "ここで、\n",
    "\n",
    "$$\n",
    "\\begin{eqnarray}\n",
    " p(x|\\mu, \\sigma) &=& \\mathcal{N}(x | \\mu, \\sigma) \\\\\n",
    " p(\\mu | \\sigma_{\\mu}) &=& \\mathcal{N}(\\mu | 0, \\sigma_{\\mu}) \\\\\n",
    " p(\\sigma | k, \\theta) &=& \\mathrm{InvGamma}(\\sigma | k, \\theta)\n",
    "\\end{eqnarray}\n",
    "$$"
   ]
  },
  {
   "cell_type": "markdown",
   "metadata": {},
   "source": [
    "## トイデータ"
   ]
  },
  {
   "cell_type": "code",
   "execution_count": 34,
   "metadata": {},
   "outputs": [
    {
     "data": {
      "text/plain": [
       "<matplotlib.legend.Legend at 0x7f9207488f40>"
      ]
     },
     "execution_count": 34,
     "metadata": {},
     "output_type": "execute_result"
    },
    {
     "data": {
      "image/png": "[encoded data removed]",
      "text/plain": [
       "<Figure size 504x216 with 1 Axes>"
      ]
     },
     "metadata": {},
     "output_type": "display_data"
    }
   ],
   "source": [
    "N = 500\n",
    "mu_true = 1.5\n",
    "sig_true = 0.5\n",
    "xs = stats.norm(mu_true, sig_true).rvs(N)\n",
    "\n",
    "fig = plt.figure(figsize=(7, 3))\n",
    "ax = fig.subplots(1,1)\n",
    "sns.distplot(xs, ax=ax)\n",
    "\n",
    "xmin, xmax, ymin, ymax = ax.axis()\n",
    "ax.vlines(mu_true, ymin, ymax, linestyles='dashed', lw=3, label='setting $\\mu$')\n",
    "ax.legend()"
   ]
  },
  {
   "cell_type": "markdown",
   "metadata": {},
   "source": [
    "## モデル構築"
   ]
  },
  {
   "cell_type": "code",
   "execution_count": 35,
   "metadata": {},
   "outputs": [],
   "source": [
    "def model_gaussian(params=None):\n",
    "    mu0 = torch.tensor(0.0)\n",
    "    sig0 = torch.tensor(10.0)\n",
    "    mu = pyro.sample('mu', dist.Normal(mu0, sig0))\n",
    "    x = pyro.sample('x', dist.Normal(mu, sig_true))\n",
    "    return x\n",
    "\n",
    "data = {'x':torch.tensor(xs)}\n",
    "cond_gauss = pyro.condition(model_gaussian, \n",
    "                            data=data)"
   ]
  },
  {
   "cell_type": "code",
   "execution_count": 36,
   "metadata": {},
   "outputs": [
    {
     "data": {
      "text/plain": [
       "<AxesSubplot:>"
      ]
     },
     "execution_count": 36,
     "metadata": {},
     "output_type": "execute_result"
    },
    {
     "data": {
      "image/png": "[encoded data removed]",
      "text/plain": [
       "<Figure size 576x216 with 1 Axes>"
      ]
     },
     "metadata": {},
     "output_type": "display_data"
    }
   ],
   "source": [
    "x_sim = [pyro.sample('x', pyro.condition(model_gaussian, data={'mu':0.0})).item() \n",
    "         for _ in range(1000)]\n",
    "\n",
    "fig = plt.figure(figsize=(8,3))\n",
    "ax = fig.subplots(1,1)\n",
    "sns.distplot(x_sim, ax=ax)"
   ]
  },
  {
   "cell_type": "markdown",
   "metadata": {},
   "source": [
    "## 変分推論"
   ]
  },
  {
   "cell_type": "code",
   "execution_count": 37,
   "metadata": {},
   "outputs": [],
   "source": [
    "def posterior():\n",
    "    mu_q = pyro.param(\"mu_q\", torch.tensor(0.))\n",
    "    sig_q = pyro.param(\"sig_q\", torch.tensor(1.), constraint=constraints.positive)\n",
    "    return dist.Normal(mu_q, sig_q)\n",
    "\n",
    "def guide(data):\n",
    "    pyro.sample('mu', posterior())\n"
   ]
  },
  {
   "cell_type": "code",
   "execution_count": 38,
   "metadata": {},
   "outputs": [],
   "source": [
    "pyro.clear_param_store()\n",
    "\n",
    "optimizer = pyro.optim.SGD({\"lr\": 0.0001, \"momentum\":0.1})\n",
    "svi = pyro.infer.SVI(model=cond_gauss, \n",
    "                     guide=guide, \n",
    "                     optim=optimizer, \n",
    "                     loss=pyro.infer.Trace_ELBO())\n",
    "\n",
    "# do gradient steps\n",
    "n_steps = 1000\n",
    "for step in range(n_steps):\n",
    "    svi.step(torch.tensor(xs))\n"
   ]
  },
  {
   "cell_type": "code",
   "execution_count": 39,
   "metadata": {},
   "outputs": [
    {
     "name": "stdout",
     "output_type": "stream",
     "text": [
      "mu_q: 1.5136502981185913\n",
      "sig_q: 0.04887150973081589\n"
     ]
    }
   ],
   "source": [
    "for name in pyro.get_param_store():\n",
    "    print(\"{}: {}\".format(name, pyro.param(name)))"
   ]
  },
  {
   "cell_type": "code",
   "execution_count": 40,
   "metadata": {},
   "outputs": [
    {
     "data": {
      "text/plain": [
       "<matplotlib.legend.Legend at 0x7f9207391f40>"
      ]
     },
     "execution_count": 40,
     "metadata": {},
     "output_type": "execute_result"
    },
    {
     "data": {
      "image/png": "[encoded data removed]",
      "text/plain": [
       "<Figure size 576x216 with 1 Axes>"
      ]
     },
     "metadata": {},
     "output_type": "display_data"
    }
   ],
   "source": [
    "mu_sample_posterior = [posterior().sample() for _ in range(5000)]\n",
    "\n",
    "fig = plt.figure(figsize=(8, 3))\n",
    "ax = fig.subplots(1,1)\n",
    "sns.distplot(mu_sample_posterior, ax=ax, label='posterior(histgram)')\n",
    "\n",
    "xmin, xmax, ymin, ymax = ax.axis()\n",
    "ax.vlines(mu_true, ymin, ymax, linestyles='dashed', lw=3, label='setting value')\n",
    "\n",
    "ax.set_xlim(1, 2)\n",
    "ax.legend()"
   ]
  },
  {
   "cell_type": "markdown",
   "metadata": {},
   "source": [
    "## 変分推論（平均と標準偏差の推論）"
   ]
  },
  {
   "cell_type": "code",
   "execution_count": 41,
   "metadata": {},
   "outputs": [],
   "source": [
    "def model_gaussian(params=None):\n",
    "    mu0 = torch.tensor(0.0)\n",
    "    sig0 = torch.tensor(10.0)\n",
    "    a0 = torch.tensor(1.0)\n",
    "    b0 = torch.tensor(2.0)\n",
    "    mu = pyro.sample('mu', dist.Normal(mu0, sig0))\n",
    "    sig = pyro.sample('sig', dist.InverseGamma(a0, b0))\n",
    "    x = pyro.sample('x', dist.Normal(mu, sig))\n",
    "    return x\n",
    "\n",
    "data = {'x':torch.tensor(xs)}\n",
    "cond_gauss = pyro.condition(model_gaussian, \n",
    "                            data=data)"
   ]
  },
  {
   "cell_type": "markdown",
   "metadata": {},
   "source": [
    "事前分布から適当にサンプルを取得"
   ]
  },
  {
   "cell_type": "code",
   "execution_count": 42,
   "metadata": {},
   "outputs": [
    {
     "data": {
      "text/plain": [
       "<AxesSubplot:>"
      ]
     },
     "execution_count": 42,
     "metadata": {},
     "output_type": "execute_result"
    },
    {
     "data": {
      "image/png": "[encoded data removed]",
      "text/plain": [
       "<Figure size 432x288 with 1 Axes>"
      ]
     },
     "metadata": {},
     "output_type": "display_data"
    }
   ],
   "source": [
    "xs_p = [pyro.sample('xs', model_gaussian).item() for _ in range(1000)]\n",
    "\n",
    "sns.distplot(xs_p)"
   ]
  },
  {
   "cell_type": "markdown",
   "metadata": {},
   "source": [
    "これは、ガウス分布のパラメータも含めて確率モデルの事前分布としてのサンプル結果。平均や標準偏差などのパラメータは事前分布として広くとっているため、広い範囲の値がサンプルされる。\n",
    "\n",
    "ここで、xのパラメータ（$\\mu, \\sigma$）を固定して（条件付けして）サンプルしてみる。\n",
    "条件としてデータ（値）をモデルに入れるには、`pyro.condition`を利用する。\n",
    "他にも、モデルの定義の中で、`opt`パラメータで値を入力することもできるが、入力する値に応じていちいちモデルを書き換えるのはよろしく無いので、conditionを使う。"
   ]
  },
  {
   "cell_type": "code",
   "execution_count": 43,
   "metadata": {},
   "outputs": [
    {
     "data": {
      "text/plain": [
       "<AxesSubplot:>"
      ]
     },
     "execution_count": 43,
     "metadata": {},
     "output_type": "execute_result"
    },
    {
     "data": {
      "image/png": "[encoded data removed]",
      "text/plain": [
       "<Figure size 432x288 with 1 Axes>"
      ]
     },
     "metadata": {},
     "output_type": "display_data"
    }
   ],
   "source": [
    "x_sim = [pyro.sample('x', pyro.condition(model_gaussian, \n",
    "                                         data={'mu':0.0, \n",
    "                                               'sig':1.0})).item() \n",
    "         for _ in range(5000)]\n",
    "\n",
    "sns.distplot(x_sim)"
   ]
  },
  {
   "cell_type": "markdown",
   "metadata": {},
   "source": [
    "推論の実行"
   ]
  },
  {
   "cell_type": "code",
   "execution_count": 44,
   "metadata": {},
   "outputs": [],
   "source": [
    "def posterior_mu():\n",
    "    mu_q = pyro.param(\"mu_q\", torch.tensor(0.))\n",
    "    sig_q = pyro.param(\"sig_q\", torch.tensor(1.), constraint=constraints.positive)\n",
    "    return dist.Normal(mu_q, sig_q)\n",
    "\n",
    "def posterior_sig():\n",
    "    a_q = pyro.param('a_q', torch.tensor(1.0), constraint=constraints.positive)\n",
    "    b_q = pyro.param('b_q', torch.tensor(2.0), constraint=constraints.positive)\n",
    "    return dist.InverseGamma(a_q, b_q)\n",
    "\n",
    "def guide(data):\n",
    "    pyro.sample('mu', posterior_mu())\n",
    "    pyro.sample('sig', posterior_sig())\n"
   ]
  },
  {
   "cell_type": "code",
   "execution_count": 45,
   "metadata": {},
   "outputs": [],
   "source": [
    "pyro.clear_param_store()\n",
    "\n",
    "optimizer = pyro.optim.SGD({\"lr\": 0.0001, \"momentum\":0.1})\n",
    "svi = pyro.infer.SVI(model=cond_gauss, \n",
    "                     guide=guide, \n",
    "                     optim=optimizer, \n",
    "                     loss=pyro.infer.Trace_ELBO())\n",
    "\n",
    "# do gradient steps\n",
    "n_steps = 1000\n",
    "for step in range(n_steps):\n",
    "    svi.step(torch.tensor(xs))\n"
   ]
  },
  {
   "cell_type": "code",
   "execution_count": 46,
   "metadata": {},
   "outputs": [
    {
     "name": "stdout",
     "output_type": "stream",
     "text": [
      "mu_q: 1.5257371664047241\n",
      "sig_q: 0.0573129802942276\n",
      "a_q: 30.476951599121094\n",
      "b_q: 16.099409103393555\n"
     ]
    }
   ],
   "source": [
    "for name in pyro.get_param_store():\n",
    "    print(\"{}: {}\".format(name, pyro.param(name)))"
   ]
  },
  {
   "cell_type": "code",
   "execution_count": 47,
   "metadata": {},
   "outputs": [
    {
     "data": {
      "text/plain": [
       "<matplotlib.legend.Legend at 0x7f92102a3220>"
      ]
     },
     "execution_count": 47,
     "metadata": {},
     "output_type": "execute_result"
    },
    {
     "data": {
      "image/png": "[encoded data removed]",
      "text/plain": [
       "<Figure size 576x360 with 2 Axes>"
      ]
     },
     "metadata": {},
     "output_type": "display_data"
    }
   ],
   "source": [
    "mu_sample_posterior = [posterior_mu().sample() for _ in range(5000)]\n",
    "sig_sample_posterior = [posterior_sig().sample() for _ in range(5000)]\n",
    "\n",
    "fig = plt.figure(figsize=(8, 5))\n",
    "ax = fig.subplots(2,1)\n",
    "\n",
    "sns.distplot(mu_sample_posterior, ax=ax[0], label='posterior(histgram)')\n",
    "xmin, xmax, ymin, ymax = ax[0].axis()\n",
    "ax[0].vlines(mu_true, ymin, ymax, linestyles='dashed', lw=3, label='setting value')\n",
    "ax[0].set_xlim(1, 2)\n",
    "ax[0].legend()\n",
    "\n",
    "sns.distplot(sig_sample_posterior, ax=ax[1], label='posterior(histgram)')\n",
    "xmin, xmax, ymin, ymax = ax[1].axis()\n",
    "ax[1].vlines(sig_true, ymin, ymax, linestyles='dashed', lw=3, label='setting value')\n",
    "ax[1].set_xlim(0, 1.5)\n",
    "ax[1].legend()"
   ]
  },
  {
   "cell_type": "markdown",
   "metadata": {},
   "source": [
    "## MCMC"
   ]
  },
  {
   "cell_type": "code",
   "execution_count": 48,
   "metadata": {},
   "outputs": [],
   "source": [
    "nuts_kernel = infer.NUTS(cond_gauss, \n",
    "                         adapt_step_size=True, \n",
    "                         jit_compile=True, \n",
    "                         ignore_jit_warnings=True)\n",
    "mcmc = infer.MCMC(nuts_kernel, \n",
    "                  num_samples=1500,\n",
    "                  warmup_steps=500,\n",
    "                  num_chains=1)"
   ]
  },
  {
   "cell_type": "code",
   "execution_count": 49,
   "metadata": {},
   "outputs": [
    {
     "name": "stderr",
     "output_type": "stream",
     "text": [
      "Sample: 100%|██████████| 2000/2000 [00:12, 155.38it/s, step size=8.30e-01, acc. prob=0.932]\n"
     ]
    }
   ],
   "source": [
    "mcmc.run()"
   ]
  },
  {
   "cell_type": "code",
   "execution_count": 50,
   "metadata": {},
   "outputs": [
    {
     "name": "stdout",
     "output_type": "stream",
     "text": [
      "\n",
      "                mean       std    median      5.0%     95.0%     n_eff     r_hat\n",
      "        mu      1.52      0.02      1.52      1.48      1.56    888.76      1.00\n",
      "       sig      0.54      0.02      0.54      0.51      0.57   1160.96      1.00\n",
      "\n",
      "Number of divergences: 0\n"
     ]
    }
   ],
   "source": [
    "mcmc.summary()"
   ]
  },
  {
   "cell_type": "code",
   "execution_count": 51,
   "metadata": {},
   "outputs": [
    {
     "data": {
      "text/plain": [
       "<matplotlib.legend.Legend at 0x7f9207529a00>"
      ]
     },
     "execution_count": 51,
     "metadata": {},
     "output_type": "execute_result"
    },
    {
     "data": {
      "image/png": "[encoded data removed]",
      "text/plain": [
       "<Figure size 576x360 with 2 Axes>"
      ]
     },
     "metadata": {},
     "output_type": "display_data"
    }
   ],
   "source": [
    "mu_sample_mcmc = mcmc.get_samples()['mu']\n",
    "sig_sample_mcmc = mcmc.get_samples()['sig']\n",
    "\n",
    "fig = plt.figure(figsize=(8, 5))\n",
    "ax = fig.subplots(2,1)\n",
    "\n",
    "sns.distplot(mu_sample_mcmc, ax=ax[0], label='posterior(histgram)')\n",
    "xmin, xmax, ymin, ymax = ax[0].axis()\n",
    "ax[0].vlines(mu_true, ymin, ymax, linestyles='dashed', lw=3, label='setting value')\n",
    "ax[0].set_xlim(1, 2)\n",
    "ax[0].legend()\n",
    "\n",
    "sns.distplot(sig_sample_mcmc, ax=ax[1], label='posterior(histgram)')\n",
    "xmin, xmax, ymin, ymax = ax[1].axis()\n",
    "ax[1].vlines(sig_true, ymin, ymax, linestyles='dashed', lw=3, label='setting value')\n",
    "ax[1].set_xlim(0, 1.5)\n",
    "ax[1].legend()"
   ]
  },
  {
   "cell_type": "code",
   "execution_count": null,
   "metadata": {},
   "outputs": [],
   "source": []
  }
 ],
 "metadata": {
  "kernelspec": {
   "display_name": "Python 3",
   "language": "python",
   "name": "python3"
  },
  "language_info": {
   "codemirror_mode": {
    "name": "ipython",
    "version": 3
   },
   "file_extension": ".py",
   "mimetype": "text/x-python",
   "name": "python",
   "nbconvert_exporter": "python",
   "pygments_lexer": "ipython3",
   "version": "3.8.5"
  }
 },
 "nbformat": 4,
 "nbformat_minor": 4
}
